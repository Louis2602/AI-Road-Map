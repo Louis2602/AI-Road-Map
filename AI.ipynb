{
 "cells": [
  {
   "cell_type": "markdown",
   "metadata": {},
   "source": [
    "# Level of AI\n",
    "1. AI\n",
    "2. AGI\n",
    "3. ASI"
   ]
  },
  {
   "cell_type": "markdown",
   "metadata": {},
   "source": [
    "# Data in AI/ML\n",
    "a good dataset? Some problems when choosing dataset?\n",
    "- Wrong Data\n",
    "- Missing Data\n",
    "- Outliers Data\n",
    "- Unbalanced Data\n",
    "- Lack of Variability in Data"
   ]
  },
  {
   "cell_type": "markdown",
   "metadata": {},
   "source": [
    "# Keyword\n",
    "### 1. Machine Learning\n",
    "- Features engineering\\\n",
    "input -> Feature extraction -> classification -> ouput\n",
    "### 2. Deep Learning\n",
    "- Learn features by themselves\\\n",
    "input -> Feature extraction + classification -> output\n",
    "### 3. Preprocessing\n",
    "- Computer vision: Resize\n",
    "- Graph: Scale (-1 -> 1)\n",
    "- Text: Tokenization"
   ]
  },
  {
   "cell_type": "markdown",
   "metadata": {},
   "source": [
    "# Supervised - Unsupervised - Reinforcement Learning\n",
    "## 1. Supervised Learning\n",
    "- Learning on labeled data. The goal is to learn a general rule that maps inputs to outputs.\\\n",
    "Ex: regression, classification, etc.\n",
    "- Learning to create a f(x) -> y\n",
    "- Regression: mapping input value to continuos output variable.\\\n",
    "Ex: housing price prediction, bitcoin value prediction, scoring, etc.\n",
    "- Classification: mapping input value to discrete or categorical values.\\\n",
    "Ex: object detection, image segmentation, etc.\n",
    "### 1.1 Prolems: \n",
    "For Overfitting:\n",
    "+ Overfitting in regression \\\n",
    "Finding much more complex function than the data.\n",
    "+ Overfitting in classification\\\n",
    "Wrong prediction\n",
    "\n",
    "For Underfitting:\n",
    "+ Underfitting in regression\\\n",
    "Find much more simple function than the data.\n",
    "+ Underfitting in classificaiton\\\n",
    "Predict right but wrong object.\n",
    "### 1.2 Reasons\n",
    "For Overfitting:\n",
    "+ Training Data is not cleaned and contains noise.\n",
    "+ Complex model but small data set.\\\n",
    "\n",
    "For Underfitting:\n",
    "+ Lack of features.\n",
    "+ The model is too simple.\n",
    "+ Small size of of dataset.\n",
    "### 1.3 Solutions\n",
    "For Overfitting:\n",
    "+ Spend more time for preprocessing data\n",
    "+ Regularization (most used)\n",
    "+ Get/Generate more data\\\n",
    "\n",
    "For Underfitting:\n",
    "+ Spend more time for feature engineering (ML)\n",
    "+ Increase model complexity\n",
    "+ Increase the training duration (# epochs)\n",
    "## 2. Unsupervised Learning\n",
    "- Learning on unlabeled data. The goal is to cluster the similar examples into classes.\\\n",
    "Ex: segmentation, recommendation system, etc.\n",
    "\n",
    "## 3. Reinforcement Learning\n",
    "- Neural Network\n",
    "- Policy Network\n",
    "- Mechanism\n",
    "- Reward shaping\\\n",
    "Ex: self-driving car, gaming, etc."
   ]
  },
  {
   "cell_type": "markdown",
   "metadata": {},
   "source": [
    "# Deep Learning\n",
    "unit = neuron ?\n",
    "### Deep Neural Network\n",
    "input layer => hidden layer 1..n => output layer"
   ]
  }
 ],
 "metadata": {
  "language_info": {
   "name": "python"
  },
  "orig_nbformat": 4
 },
 "nbformat": 4,
 "nbformat_minor": 2
}
