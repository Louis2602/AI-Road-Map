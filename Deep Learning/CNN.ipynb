{
 "cells": [
  {
   "cell_type": "code",
   "execution_count": 12,
   "metadata": {},
   "outputs": [],
   "source": [
    "import tensorflow as tf\n",
    "from tensorflow.keras import layers, models, datasets\n",
    "import matplotlib.pyplot as plt"
   ]
  },
  {
   "cell_type": "code",
   "execution_count": 13,
   "metadata": {},
   "outputs": [],
   "source": [
    "# Step 1: Collect the relevant data\n",
    "(training_images, training_labels), (testing_images, testing_labels) = datasets.cifar10.load_data()"
   ]
  },
  {
   "cell_type": "code",
   "execution_count": 14,
   "metadata": {},
   "outputs": [
    {
     "name": "stdout",
     "output_type": "stream",
     "text": [
      "frog\n"
     ]
    },
    {
     "data": {
      "image/png": "[encoded data removed]",
      "text/plain": [
       "<Figure size 432x288 with 1 Axes>"
      ]
     },
     "metadata": {
      "needs_background": "light"
     },
     "output_type": "display_data"
    }
   ],
   "source": [
    "plt.imshow(training_images[0])\n",
    "\n",
    "class_names = ['airplane', 'automobile', 'bird', 'cat', 'deer', 'dog', 'frog', 'horse', 'ship', 'truck']\n",
    "\n",
    "print(class_names[training_labels[0][0]])"
   ]
  },
  {
   "cell_type": "code",
   "execution_count": 15,
   "metadata": {},
   "outputs": [
    {
     "name": "stdout",
     "output_type": "stream",
     "text": [
      "Model: \"sequential_1\"\n",
      "_________________________________________________________________\n",
      "Layer (type)                 Output Shape              Param #   \n",
      "=================================================================\n",
      "conv2d_2 (Conv2D)            (None, 30, 30, 64)        1792      \n",
      "_________________________________________________________________\n",
      "max_pooling2d_2 (MaxPooling2 (None, 15, 15, 64)        0         \n",
      "_________________________________________________________________\n",
      "conv2d_3 (Conv2D)            (None, 13, 13, 64)        36928     \n",
      "_________________________________________________________________\n",
      "max_pooling2d_3 (MaxPooling2 (None, 6, 6, 64)          0         \n",
      "_________________________________________________________________\n",
      "flatten_1 (Flatten)          (None, 2304)              0         \n",
      "_________________________________________________________________\n",
      "dense_2 (Dense)              (None, 128)               295040    \n",
      "_________________________________________________________________\n",
      "dense_3 (Dense)              (None, 10)                1290      \n",
      "=================================================================\n",
      "Total params: 335,050\n",
      "Trainable params: 335,050\n",
      "Non-trainable params: 0\n",
      "_________________________________________________________________\n"
     ]
    }
   ],
   "source": [
    "# Step 2: Choose a suitable models -> CNN\n",
    "# Step 3: Define the model\n",
    "model = models.Sequential()\n",
    "model.add(layers.Conv2D(64,(3,3),activation='relu',input_shape=(32,32,3)))\n",
    "model.add(layers.MaxPooling2D((2,2)))\n",
    "model.add(layers.Conv2D(64,(3,3), activation='relu'))\n",
    "model.add(layers.MaxPooling2D((2,2)))\n",
    "model.add(layers.Flatten());\n",
    "model.add(layers.Dense(128, activation='relu'))\n",
    "model.add(layers.Dense(10))\n",
    "\n",
    "model.summary()"
   ]
  },
  {
   "cell_type": "code",
   "execution_count": 16,
   "metadata": {},
   "outputs": [
    {
     "name": "stdout",
     "output_type": "stream",
     "text": [
      "Epoch 1/10\n",
      "782/782 [==============================] - 115s 147ms/step - loss: 2.0583 - accuracy: 0.3692 - val_loss: 1.4621 - val_accuracy: 0.4781\n",
      "Epoch 2/10\n",
      "782/782 [==============================] - 102s 130ms/step - loss: 1.3541 - accuracy: 0.5161 - val_loss: 1.3347 - val_accuracy: 0.5271\n",
      "Epoch 3/10\n",
      "782/782 [==============================] - 100s 128ms/step - loss: 1.1827 - accuracy: 0.5809 - val_loss: 1.2450 - val_accuracy: 0.5704\n",
      "Epoch 4/10\n",
      "782/782 [==============================] - 97s 124ms/step - loss: 1.0597 - accuracy: 0.6268 - val_loss: 1.1549 - val_accuracy: 0.6063\n",
      "Epoch 5/10\n",
      "782/782 [==============================] - 103s 132ms/step - loss: 0.9533 - accuracy: 0.6676 - val_loss: 1.1463 - val_accuracy: 0.6194\n",
      "Epoch 6/10\n",
      "782/782 [==============================] - 104s 133ms/step - loss: 0.8703 - accuracy: 0.6982 - val_loss: 1.1153 - val_accuracy: 0.6389\n",
      "Epoch 7/10\n",
      "782/782 [==============================] - 96s 123ms/step - loss: 0.7912 - accuracy: 0.7234 - val_loss: 1.1689 - val_accuracy: 0.6274\n",
      "Epoch 8/10\n",
      "782/782 [==============================] - 100s 128ms/step - loss: 0.7109 - accuracy: 0.7533 - val_loss: 1.1845 - val_accuracy: 0.6405\n",
      "Epoch 9/10\n",
      "782/782 [==============================] - 95s 122ms/step - loss: 0.6471 - accuracy: 0.7761 - val_loss: 1.2180 - val_accuracy: 0.6486\n",
      "Epoch 10/10\n",
      "782/782 [==============================] - 84s 107ms/step - loss: 0.5733 - accuracy: 0.7997 - val_loss: 1.3404 - val_accuracy: 0.6286\n"
     ]
    },
    {
     "data": {
      "text/plain": [
       "<tensorflow.python.keras.callbacks.History at 0x1bd5dbca448>"
      ]
     },
     "execution_count": 16,
     "metadata": {},
     "output_type": "execute_result"
    }
   ],
   "source": [
    "# Step 4: Optimize the model using an optimization algorithm (gradient descent)\n",
    "model.compile(\n",
    "    optimizer='adam',\n",
    "    loss=tf.keras.losses.SparseCategoricalCrossentropy(from_logits=True),\n",
    "    metrics=['accuracy']\n",
    ")\n",
    "\n",
    "model.fit(training_images, training_labels, batch_size=64, epochs=10, validation_data=(testing_images, testing_labels))"
   ]
  },
  {
   "cell_type": "code",
   "execution_count": 17,
   "metadata": {},
   "outputs": [
    {
     "name": "stdout",
     "output_type": "stream",
     "text": [
      "cat\n"
     ]
    },
    {
     "data": {
      "image/png": "[encoded data removed]",
      "text/plain": [
       "<Figure size 432x288 with 1 Axes>"
      ]
     },
     "metadata": {
      "needs_background": "light"
     },
     "output_type": "display_data"
    }
   ],
   "source": [
    "plt.imshow(testing_images[0])\n",
    "\n",
    "import numpy as np\n",
    "\n",
    "print(class_names[np.argmax(model.predict(testing_images)[0])])"
   ]
  }
 ],
 "metadata": {
  "interpreter": {
   "hash": "dabf6c746d856cc872d323ca5db6db820e9b75d5337cfaa84ab6df421ddd119c"
  },
  "kernelspec": {
   "display_name": "Python 3.7.11 64-bit ('{tunglam}': conda)",
   "language": "python",
   "name": "python3"
  },
  "language_info": {
   "codemirror_mode": {
    "name": "ipython",
    "version": 3
   },
   "file_extension": ".py",
   "mimetype": "text/x-python",
   "name": "python",
   "nbconvert_exporter": "python",
   "pygments_lexer": "ipython3",
   "version": "3.7.11"
  },
  "orig_nbformat": 4
 },
 "nbformat": 4,
 "nbformat_minor": 2
}
