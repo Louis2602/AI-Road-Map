{
 "cells": [
  {
   "cell_type": "code",
   "execution_count": 1,
   "metadata": {},
   "outputs": [],
   "source": [
    "import keras\n",
    "import tensorflow as tf\n",
    "from keras.datasets import mnist\n",
    "from keras.models import Sequential\n",
    "from keras.layers import Dense, Dropout, Flatten\n",
    "from keras.layers import Conv2D, MaxPooling2D\n",
    "from sklearn.model_selection import KFold"
   ]
  },
  {
   "cell_type": "code",
   "execution_count": 2,
   "metadata": {},
   "outputs": [],
   "source": [
    "num_classes = 10\n",
    "batch_size = 64\n",
    "epochs = 10\n",
    "input_shape = (28, 28, 1)"
   ]
  },
  {
   "cell_type": "code",
   "execution_count": 3,
   "metadata": {},
   "outputs": [],
   "source": [
    "# preprocess the data\n",
    "def load_dataset():\n",
    "    # Loading data\n",
    "    (x_train, y_train), (x_test, y_test) = mnist.load_data()\n",
    "    print(x_train.shape, y_train.shape)\n",
    "    x_train = x_train.reshape(x_train.shape[0], 28, 28, 1)\n",
    "    x_test = x_test.reshape(x_test.shape[0], 28, 28, 1)\n",
    "\n",
    "    y_train = keras.utils.to_categorical(y_train, num_classes)\n",
    "    y_test = keras.utils.to_categorical(y_test, num_classes)\n",
    "\n",
    "\n",
    "    print('x_train shape:', x_train.shape)\n",
    "    print(x_train.shape[0], 'train samples')\n",
    "    print(x_test.shape[0], 'test samples')\n",
    "\n",
    "    return x_train, y_train, x_test, y_test"
   ]
  },
  {
   "cell_type": "code",
   "execution_count": 4,
   "metadata": {},
   "outputs": [],
   "source": [
    "def prep_pixels(train ,test):\n",
    "    # convert class vectors to binary class matrices\n",
    "    x_train = train.astype('float32')\n",
    "    x_test = test.astype('float32')\n",
    "    x_train /= 255.0\n",
    "    x_test /= 255.0\n",
    "\n",
    "    return x_train, x_test"
   ]
  },
  {
   "cell_type": "code",
   "execution_count": 5,
   "metadata": {},
   "outputs": [],
   "source": [
    "def define_model():\n",
    "    model = Sequential()\n",
    "    model.add(Conv2D(32, (3, 3), activation='relu', kernel_initializer='he_uniform',input_shape=input_shape))\n",
    "    model.add(Conv2D(64, (3, 3), activation='relu', kernel_initializer='he_uniform'))\n",
    "    model.add(MaxPooling2D((2, 2)))\n",
    "    model.add(Dropout(0.25))\n",
    "    model.add(Flatten())\n",
    "    model.add(Dense(256, activation='relu', kernel_initializer='he_uniform'))\n",
    "    model.add(Dropout(0.5))\n",
    "    model.add(Dense(num_classes, activation='softmax'))\n",
    "\n",
    "    # compile model\n",
    "    opt_sgd = tf.keras.optimizers.SGD(learning_rate=0.001, momentum=0.9,decay=1e-6, nesterov=False) \n",
    "    model.compile(\n",
    "        optimizer=opt_sgd,\n",
    "        loss='categorical_crossentropy',\n",
    "        metrics=['accuracy']\n",
    "    )\n",
    "    return model"
   ]
  },
  {
   "cell_type": "code",
   "execution_count": 34,
   "metadata": {},
   "outputs": [],
   "source": [
    "def evaluate_model(x_train, y_train, x_test, y_test):\n",
    "\t# define model \n",
    "\tmodel = define_model()\n",
    "\t# select rows for train and test \n",
    "\t# fit model \n",
    "\thistory = model.fit(x_train, y_train, epochs=epochs, batch_size=batch_size, validation_data=(x_test, y_test), verbose=1, validation_split=0.2)\n",
    "\n",
    "\t# evaluate model\n",
    "\t_, acc = model.evaluate(x_test, y_test, verbose=0)\n",
    "\tprint('%.3f' % (acc * 100.0))"
   ]
  },
  {
   "cell_type": "code",
   "execution_count": 35,
   "metadata": {},
   "outputs": [],
   "source": [
    "def run_test():\n",
    "    # load dataset\n",
    "    x_train, y_train, x_test, y_test = load_dataset()\n",
    "    # prepare pixel data\n",
    "    x_train, x_test = prep_pixels(x_train, x_test)\n",
    "    # evaluate model\n",
    "    history = evaluate_model(x_train, y_train, x_test, y_test)\n",
    "    return history"
   ]
  },
  {
   "cell_type": "code",
   "execution_count": 36,
   "metadata": {},
   "outputs": [
    {
     "name": "stdout",
     "output_type": "stream",
     "text": [
      "(60000, 28, 28) (60000,)\n",
      "x_train shape: (60000, 28, 28, 1)\n",
      "60000 train samples\n",
      "10000 test samples\n",
      "Epoch 1/10\n",
      "750/750 [==============================] - 35s 47ms/step - loss: 0.4642 - accuracy: 0.8547 - val_loss: 0.1647 - val_accuracy: 0.9552\n",
      "Epoch 2/10\n",
      "750/750 [==============================] - 35s 46ms/step - loss: 0.2124 - accuracy: 0.9368 - val_loss: 0.1125 - val_accuracy: 0.9674\n",
      "Epoch 3/10\n",
      "750/750 [==============================] - 35s 46ms/step - loss: 0.1583 - accuracy: 0.9530 - val_loss: 0.0870 - val_accuracy: 0.9760\n",
      "Epoch 4/10\n",
      "750/750 [==============================] - 35s 46ms/step - loss: 0.1286 - accuracy: 0.9614 - val_loss: 0.0752 - val_accuracy: 0.9787\n",
      "Epoch 5/10\n",
      "750/750 [==============================] - 35s 47ms/step - loss: 0.1108 - accuracy: 0.9666 - val_loss: 0.0676 - val_accuracy: 0.9812\n",
      "Epoch 6/10\n",
      "750/750 [==============================] - 35s 47ms/step - loss: 0.0956 - accuracy: 0.9713 - val_loss: 0.0620 - val_accuracy: 0.9831\n",
      "Epoch 7/10\n",
      "750/750 [==============================] - 36s 48ms/step - loss: 0.0888 - accuracy: 0.9731 - val_loss: 0.0590 - val_accuracy: 0.9839\n",
      "Epoch 8/10\n",
      "750/750 [==============================] - 37s 49ms/step - loss: 0.0804 - accuracy: 0.9755 - val_loss: 0.0540 - val_accuracy: 0.9850\n",
      "Epoch 9/10\n",
      "750/750 [==============================] - 34s 45ms/step - loss: 0.0760 - accuracy: 0.9769 - val_loss: 0.0534 - val_accuracy: 0.9847\n",
      "Epoch 10/10\n",
      "750/750 [==============================] - 34s 45ms/step - loss: 0.0701 - accuracy: 0.9782 - val_loss: 0.0514 - val_accuracy: 0.9853\n",
      "98.520\n"
     ]
    }
   ],
   "source": [
    "history = run_test()"
   ]
  }
 ],
 "metadata": {
  "interpreter": {
   "hash": "dabf6c746d856cc872d323ca5db6db820e9b75d5337cfaa84ab6df421ddd119c"
  },
  "kernelspec": {
   "display_name": "Python 3.7.11 64-bit ('{tunglam}': conda)",
   "language": "python",
   "name": "python3"
  },
  "language_info": {
   "codemirror_mode": {
    "name": "ipython",
    "version": 3
   },
   "file_extension": ".py",
   "mimetype": "text/x-python",
   "name": "python",
   "nbconvert_exporter": "python",
   "pygments_lexer": "ipython3",
   "version": "3.7.11"
  },
  "orig_nbformat": 4
 },
 "nbformat": 4,
 "nbformat_minor": 2
}
