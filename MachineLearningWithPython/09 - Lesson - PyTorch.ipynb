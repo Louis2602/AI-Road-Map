{
 "cells": [
  {
   "cell_type": "markdown",
   "id": "91da3a70",
   "metadata": {},
   "source": [
    "# PyTorch\n",
    "\n",
    "### Goal of lesson\n",
    "- What is PyTorch\n",
    "- PyTorch vs Tensorflow\n",
    "- Get started with PyTorch\n",
    "- Work with image classification"
   ]
  },
  {
   "cell_type": "markdown",
   "id": "97a9bdde",
   "metadata": {},
   "source": [
    "### Resources to PyTorch\n",
    "- Free book [Deep Learning with PyTorch](https://pytorch.org/assets/deep-learning/Deep-Learning-with-PyTorch.pdf)"
   ]
  },
  {
   "cell_type": "markdown",
   "id": "4023a000",
   "metadata": {},
   "source": [
    "### PyTorch and Tensorflow\n",
    "- PyTorch and Tensorflow are the most popular Deep Learning frameworks\n",
    "- PyTorch was released in 2016 by Facebook’s AI Research lab\n",
    "- Tensorflow was released in 2015 by Google Brain team\n",
    "- They are both sound choices for Deep Learning"
   ]
  },
  {
   "cell_type": "markdown",
   "id": "303dc52f",
   "metadata": {},
   "source": [
    "### Installing PyToch\n",
    "- PyTorch is not by default installed\n",
    "\n",
    "### Look at the datasets\n",
    "- PyTorch comes with a long list of prepared datasets ([see all here](https://pytorch.org/vision/0.8/datasets.html)).\n",
    "- We will cover\n",
    "    - [MNIST](https://en.wikipedia.org/wiki/MNIST_database) A datasets for handwritten digit-recognition.\n",
    "    - [CIFAR10](https://en.wikipedia.org/wiki/CIFAR-10) A dataset of 32x32 images of 10 classes\n",
    "- Datasets can be downloaded with **torchvision**\n",
    "\n",
    "``` Python\n",
    "from torchvision import datasets\n",
    "\n",
    "data_path = 'downloads/'\n",
    "mnist = datasets.MNIST(data_path, train=True, download=True)\n",
    "```"
   ]
  },
  {
   "cell_type": "markdown",
   "id": "9c3cede0",
   "metadata": {},
   "source": [
    "### Transforming and Normalizing\n",
    "- Images are PIL\n",
    "- Need to be transformed to tensor\n",
    "    - **torchvision** has transformations **transform.ToTensor()**, which turns NumPy arrays and PIL to Tensor\n",
    "- Then we need to normalize images\n",
    "    - Need to determine the **mean** value and the **standard deviation**\n",
    "- Then we can apply nomalization\n",
    "    - **torchvision** has **transform.Normalize**, which takes **mean** and **standard deviation**"
   ]
  },
  {
   "cell_type": "markdown",
   "id": "7c4a0d9d",
   "metadata": {},
   "source": [
    "### Training the model\n",
    "<img src='img/mnist_nn.png' width=600 align='left'>"
   ]
  },
  {
   "cell_type": "markdown",
   "id": "e964378d",
   "metadata": {},
   "source": [
    "### Optimize the model\n",
    "- If we have defined the model as above - we will use the [SGD](https://pytorch.org/docs/stable/optim.html) optimizer.\n",
    "\n",
    "```Python\n",
    "train_loader = torch.utils.data.DataLoader(mnist, batch_size=64,\n",
    "                                           shuffle=True)\n",
    "\n",
    "optimizer = optim.SGD(model.parameters(), lr=0.01)\n",
    "loss_fn = nn.NLLLoss()\n",
    "\n",
    "n_epochs = 10\n",
    "for epoch in range(n_epochs):\n",
    "    for imgs, labels in train_loader:\n",
    "        optimizer.zero_grad()\n",
    "        \n",
    "        batch_size = imgs.shape[0]\n",
    "        output = model(imgs.view(batch_size, -1))\n",
    "        \n",
    "        loss = loss_fn(output, labels)\n",
    "        \n",
    "        loss.backward()\n",
    "        \n",
    "        optimizer.step()\n",
    "    print(\"Epoch: %d, Loss: %f\" % (epoch, float(loss)))\n",
    "```"
   ]
  },
  {
   "cell_type": "markdown",
   "id": "98919a5a",
   "metadata": {},
   "source": [
    "### Test the model\n",
    "- Finally we need to test the model\n",
    "\n",
    "```Python\n",
    "correct = 0\n",
    "total = 0\n",
    "with torch.no_grad():\n",
    "    for imgs, labels in val_loader:\n",
    "        batch_size = imgs.shape[0]\n",
    "        outputs = model(imgs.view(batch_size, -1))\n",
    "        _, predicted = torch.max(outputs, dim=1)\n",
    "        total += labels.shape[0]\n",
    "        correct += int((predicted == labels).sum())\n",
    "print(\"Accuracy: %f\", correct / total)\n",
    "```"
   ]
  },
  {
   "cell_type": "markdown",
   "id": "f26265f0",
   "metadata": {},
   "source": [
    "> #### Programming Notes:\n",
    "> - Libraries used\n",
    ">     - [**torch**](https://pytorch.org) open source machine learning framework\n",
    ">     - [**torchvision**](https://pypi.org/project/torchvision/) image and video datasets and models for torch deep learning\n",
    ">     - [**matplotlib**](http://matplotlib.org) - visualization with Python ([Lecture on **visualization**](https://youtu.be/htIh8YHh4xs))\n",
    "> - Functionality and concepts used\n",
    ">     - [**datasets**](https://pytorch.org/vision/stable/datasets.html) torchvision datasets.\n",
    ">     - [**ToTensor**](https://pytorch.org/vision/stable/transforms.html#torchvision.transforms.ToTensor) turns NumPy arrays and PIL to Tensor\n",
    ">     - [**Normalize**](https://pytorch.org/vision/stable/transforms.html#torchvision.transforms.Normalize) Normalize a tensor image with mean and standard deviation\n",
    ">     - [**Compose**](https://pytorch.org/vision/stable/transforms.html#torchvision.transforms.Compose) Composes several transforms together.\n",
    ">     - [**DataLoader**](https://pytorch.org/docs/stable/data.html) data loading utiltiy\n",
    ">     - [**Sequential**](https://www.tensorflow.org/api_docs/python/tf/keras/Sequential) provides training and inference features for a model\n",
    ">     - [**Linear**](https://pytorch.org/docs/stable/generated/torch.nn.Linear.html) Applies a linear transformation to the incoming data\n",
    ">     - [**ReLU**](https://pytorch.org/docs/stable/generated/torch.nn.ReLU.html) Applies the rectified linear unit function element-wise (a simple function which allows positive values to pass through, whereas negative values are modified to zero)\n",
    ">     - [**LogSoftmax**](https://pytorch.org/docs/stable/generated/torch.nn.LogSoftmax.html) Applies the **log(Softmax(x))** function to an n-dimensional input Tensor\n",
    ">     - [**SGD**](https://pytorch.org/docs/stable/generated/torch.optim.SGD.html) Implements stochastic gradient descent\n",
    ">     - [**NLLLoss**](https://pytorch.org/docs/stable/generated/torch.nn.NLLLoss.html) The negative log likelihood loss"
   ]
  },
  {
   "cell_type": "code",
   "execution_count": null,
   "id": "aed835c4",
   "metadata": {
    "scrolled": true
   },
   "outputs": [],
   "source": [
    "!pip install torchvision"
   ]
  },
  {
   "cell_type": "code",
   "execution_count": 2,
   "id": "087eadea",
   "metadata": {},
   "outputs": [],
   "source": [
    "from torchvision import datasets\n",
    "from torchvision import transforms\n",
    "import torch\n",
    "import torch.nn as nn\n",
    "from torch import optim\n",
    "import matplotlib.pyplot as plt\n",
    "%matplotlib inline"
   ]
  },
  {
   "cell_type": "code",
   "execution_count": 3,
   "id": "ada05ad3",
   "metadata": {
    "scrolled": true
   },
   "outputs": [
    {
     "name": "stdout",
     "output_type": "stream",
     "text": [
      "Downloading http://yann.lecun.com/exdb/mnist/train-images-idx3-ubyte.gz\n",
      "Downloading http://yann.lecun.com/exdb/mnist/train-images-idx3-ubyte.gz to downloads/MNIST/raw/train-images-idx3-ubyte.gz\n"
     ]
    },
    {
     "data": {
      "application/vnd.jupyter.widget-view+json": {
       "model_id": "1f0ea608a2b344aa803851e92ad35b77",
       "version_major": 2,
       "version_minor": 0
      },
      "text/plain": [
       "  0%|          | 0/9912422 [00:00<?, ?it/s]"
      ]
     },
     "metadata": {},
     "output_type": "display_data"
    },
    {
     "name": "stdout",
     "output_type": "stream",
     "text": [
      "Extracting downloads/MNIST/raw/train-images-idx3-ubyte.gz to downloads/MNIST/raw\n",
      "\n",
      "Downloading http://yann.lecun.com/exdb/mnist/train-labels-idx1-ubyte.gz\n",
      "Downloading http://yann.lecun.com/exdb/mnist/train-labels-idx1-ubyte.gz to downloads/MNIST/raw/train-labels-idx1-ubyte.gz\n"
     ]
    },
    {
     "data": {
      "application/vnd.jupyter.widget-view+json": {
       "model_id": "7be8a4db6bc04304bd4c133b6a8ee920",
       "version_major": 2,
       "version_minor": 0
      },
      "text/plain": [
       "  0%|          | 0/28881 [00:00<?, ?it/s]"
      ]
     },
     "metadata": {},
     "output_type": "display_data"
    },
    {
     "name": "stdout",
     "output_type": "stream",
     "text": [
      "Extracting downloads/MNIST/raw/train-labels-idx1-ubyte.gz to downloads/MNIST/raw\n",
      "\n",
      "Downloading http://yann.lecun.com/exdb/mnist/t10k-images-idx3-ubyte.gz\n",
      "Downloading http://yann.lecun.com/exdb/mnist/t10k-images-idx3-ubyte.gz to downloads/MNIST/raw/t10k-images-idx3-ubyte.gz\n"
     ]
    },
    {
     "data": {
      "application/vnd.jupyter.widget-view+json": {
       "model_id": "f2862f77775043f4b863072ca387e775",
       "version_major": 2,
       "version_minor": 0
      },
      "text/plain": [
       "  0%|          | 0/1648877 [00:00<?, ?it/s]"
      ]
     },
     "metadata": {},
     "output_type": "display_data"
    },
    {
     "name": "stdout",
     "output_type": "stream",
     "text": [
      "Extracting downloads/MNIST/raw/t10k-images-idx3-ubyte.gz to downloads/MNIST/raw\n",
      "\n",
      "Downloading http://yann.lecun.com/exdb/mnist/t10k-labels-idx1-ubyte.gz\n",
      "Downloading http://yann.lecun.com/exdb/mnist/t10k-labels-idx1-ubyte.gz to downloads/MNIST/raw/t10k-labels-idx1-ubyte.gz\n"
     ]
    },
    {
     "data": {
      "application/vnd.jupyter.widget-view+json": {
       "model_id": "21d7066b95a04e9383b2b66cc5368a26",
       "version_major": 2,
       "version_minor": 0
      },
      "text/plain": [
       "  0%|          | 0/4542 [00:00<?, ?it/s]"
      ]
     },
     "metadata": {},
     "output_type": "display_data"
    },
    {
     "name": "stdout",
     "output_type": "stream",
     "text": [
      "Extracting downloads/MNIST/raw/t10k-labels-idx1-ubyte.gz to downloads/MNIST/raw\n",
      "\n"
     ]
    }
   ],
   "source": [
    "data_path = 'downloads/'\n",
    "mnist = datasets.MNIST(data_path, train=True, download=True)\n",
    "mnist_val = datasets.MNIST(data_path, train=False, download=True)"
   ]
  },
  {
   "cell_type": "code",
   "execution_count": 4,
   "id": "6869574d",
   "metadata": {},
   "outputs": [],
   "source": [
    "img, label = mnist[1000]"
   ]
  },
  {
   "cell_type": "code",
   "execution_count": 6,
   "id": "dd6ef27b",
   "metadata": {},
   "outputs": [
    {
     "data": {
      "text/plain": [
       "'0 - zero'"
      ]
     },
     "execution_count": 6,
     "metadata": {},
     "output_type": "execute_result"
    }
   ],
   "source": [
    "mnist.classes[label]"
   ]
  },
  {
   "cell_type": "code",
   "execution_count": 7,
   "id": "5dda9f4d",
   "metadata": {},
   "outputs": [
    {
     "data": {
      "text/plain": [
       "<matplotlib.image.AxesImage at 0x7f82c6a13340>"
      ]
     },
     "execution_count": 7,
     "metadata": {},
     "output_type": "execute_result"
    },
    {
     "data": {
      "image/png": "[encoded data removed]",
      "text/plain": [
       "<Figure size 432x288 with 1 Axes>"
      ]
     },
     "metadata": {
      "needs_background": "light"
     },
     "output_type": "display_data"
    }
   ],
   "source": [
    "plt.imshow(img, cmap='gray')"
   ]
  },
  {
   "cell_type": "code",
   "execution_count": 8,
   "id": "55a35037",
   "metadata": {},
   "outputs": [],
   "source": [
    "mnist = datasets.MNIST(data_path, train=True, download=False, transform=transforms.ToTensor())"
   ]
  },
  {
   "cell_type": "code",
   "execution_count": 9,
   "id": "9839aa01",
   "metadata": {},
   "outputs": [],
   "source": [
    "imgs = torch.stack([img_t for img_t, _ in mnist], dim=3)"
   ]
  },
  {
   "cell_type": "code",
   "execution_count": 10,
   "id": "59aa2ee7",
   "metadata": {},
   "outputs": [
    {
     "data": {
      "text/plain": [
       "tensor([0.1307])"
      ]
     },
     "execution_count": 10,
     "metadata": {},
     "output_type": "execute_result"
    }
   ],
   "source": [
    "imgs.view(1, -1).mean(dim=1)"
   ]
  },
  {
   "cell_type": "code",
   "execution_count": 12,
   "id": "469847d8",
   "metadata": {},
   "outputs": [
    {
     "data": {
      "text/plain": [
       "tensor([0.3081])"
      ]
     },
     "execution_count": 12,
     "metadata": {},
     "output_type": "execute_result"
    }
   ],
   "source": [
    "imgs.view(1, -1).std(dim=1)"
   ]
  },
  {
   "cell_type": "code",
   "execution_count": 14,
   "id": "d0028073",
   "metadata": {},
   "outputs": [],
   "source": [
    "mnist = datasets.MNIST(data_path, train=True, download=False, \n",
    "                       transform=transforms.Compose([\n",
    "                           transforms.ToTensor(),\n",
    "                           transforms.Normalize((0.1307),\n",
    "                                               (0.3081))]))\n",
    "\n",
    "mnist_val = datasets.MNIST(data_path, train=False, download=False, \n",
    "                       transform=transforms.Compose([\n",
    "                           transforms.ToTensor(),\n",
    "                           transforms.Normalize((0.1307),\n",
    "                                               (0.3081))]))"
   ]
  },
  {
   "cell_type": "code",
   "execution_count": 16,
   "id": "ed0709a0",
   "metadata": {},
   "outputs": [],
   "source": [
    "input_size = 784 # ?? 28*28\n",
    "hidden_sizes = [128, 64]\n",
    "output_size = 10\n",
    "\n",
    "model = nn.Sequential(nn.Linear(input_size, hidden_sizes[0]),\n",
    "                     nn.ReLU(),\n",
    "                     nn.Linear(hidden_sizes[0], hidden_sizes[1]),\n",
    "                     nn.ReLU(),\n",
    "                     nn.Linear(hidden_sizes[1], output_size),\n",
    "                     nn.LogSoftmax(dim=1))"
   ]
  },
  {
   "cell_type": "code",
   "execution_count": 18,
   "id": "a43b093c",
   "metadata": {},
   "outputs": [
    {
     "name": "stdout",
     "output_type": "stream",
     "text": [
      "Epoch: 0, Loss: 0.398855\n",
      "Epoch: 1, Loss: 0.338213\n",
      "Epoch: 2, Loss: 0.269782\n",
      "Epoch: 3, Loss: 0.042949\n",
      "Epoch: 4, Loss: 0.189661\n",
      "Epoch: 5, Loss: 0.259607\n",
      "Epoch: 6, Loss: 0.086317\n",
      "Epoch: 7, Loss: 0.046707\n",
      "Epoch: 8, Loss: 0.037421\n",
      "Epoch: 9, Loss: 0.120779\n"
     ]
    }
   ],
   "source": [
    "train_loader = torch.utils.data.DataLoader(mnist, batch_size=64,\n",
    "                                           shuffle=True)\n",
    "\n",
    "optimizer = optim.SGD(model.parameters(), lr=0.01)\n",
    "loss_fn = nn.NLLLoss()\n",
    "\n",
    "n_epochs = 10\n",
    "for epoch in range(n_epochs):\n",
    "    for imgs, labels in train_loader:\n",
    "        optimizer.zero_grad()\n",
    "\n",
    "        batch_size = imgs.shape[0]\n",
    "        output = model(imgs.view(batch_size, -1))\n",
    "\n",
    "        loss = loss_fn(output, labels)\n",
    "\n",
    "        loss.backward()\n",
    "\n",
    "        optimizer.step()\n",
    "    print(\"Epoch: %d, Loss: %f\" % (epoch, float(loss)))"
   ]
  },
  {
   "cell_type": "code",
   "execution_count": 20,
   "id": "e05112ce",
   "metadata": {},
   "outputs": [
    {
     "name": "stdout",
     "output_type": "stream",
     "text": [
      "Accuracy: %f 0.9644\n"
     ]
    }
   ],
   "source": [
    "val_loader = torch.utils.data.DataLoader(mnist_val, batch_size=64,\n",
    "                                           shuffle=True)\n",
    "\n",
    "\n",
    "correct = 0\n",
    "total = 0\n",
    "with torch.no_grad():\n",
    "    for imgs, labels in val_loader:\n",
    "        batch_size = imgs.shape[0]\n",
    "        outputs = model(imgs.view(batch_size, -1))\n",
    "        _, predicted = torch.max(outputs, dim=1)\n",
    "        total += labels.shape[0]\n",
    "        correct += int((predicted == labels).sum())\n",
    "print(\"Accuracy: %f\", correct / total)"
   ]
  },
  {
   "cell_type": "code",
   "execution_count": null,
   "id": "786c58a1",
   "metadata": {},
   "outputs": [],
   "source": []
  }
 ],
 "metadata": {
  "kernelspec": {
   "display_name": "Python 3 (ipykernel)",
   "language": "python",
   "name": "python3"
  },
  "language_info": {
   "codemirror_mode": {
    "name": "ipython",
    "version": 3
   },
   "file_extension": ".py",
   "mimetype": "text/x-python",
   "name": "python",
   "nbconvert_exporter": "python",
   "pygments_lexer": "ipython3",
   "version": "3.8.8"
  }
 },
 "nbformat": 4,
 "nbformat_minor": 5
}
