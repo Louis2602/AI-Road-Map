{
 "cells": [
  {
   "cell_type": "markdown",
   "id": "dcf39a8a",
   "metadata": {},
   "source": [
    "# Project: Classify House Prices\n",
    "- Put houses in price groups and try to predict based on Latitude and Longitude\n",
    "- That will show if the area is a good indicator of the house unit price"
   ]
  },
  {
   "cell_type": "markdown",
   "id": "8e2365fc",
   "metadata": {},
   "source": [
    "### Step 1: Import libraries"
   ]
  },
  {
   "cell_type": "code",
   "execution_count": 2,
   "id": "1151078a",
   "metadata": {},
   "outputs": [],
   "source": [
    "import pandas as pd\n",
    "from sklearn.model_selection import train_test_split\n",
    "from sklearn.neighbors import KNeighborsClassifier\n",
    "from sklearn.metrics import r2_score, accuracy_score"
   ]
  },
  {
   "cell_type": "markdown",
   "id": "152cdd74",
   "metadata": {},
   "source": [
    "### Step 2: Read the data\n",
    "- Use Pandas [read_csv](https://pandas.pydata.org/pandas-docs/stable/reference/api/pandas.read_csv.html) method to read **files/house_prices.csv**"
   ]
  },
  {
   "cell_type": "code",
   "execution_count": 4,
   "id": "6a31ecb4",
   "metadata": {},
   "outputs": [
    {
     "data": {
      "text/html": [
       "<div>\n",
       "<style scoped>\n",
       "    .dataframe tbody tr th:only-of-type {\n",
       "        vertical-align: middle;\n",
       "    }\n",
       "\n",
       "    .dataframe tbody tr th {\n",
       "        vertical-align: top;\n",
       "    }\n",
       "\n",
       "    .dataframe thead th {\n",
       "        text-align: right;\n",
       "    }\n",
       "</style>\n",
       "<table border=\"1\" class=\"dataframe\">\n",
       "  <thead>\n",
       "    <tr style=\"text-align: right;\">\n",
       "      <th></th>\n",
       "      <th>Transaction</th>\n",
       "      <th>House age</th>\n",
       "      <th>Distance to MRT station</th>\n",
       "      <th>Number of convenience stores</th>\n",
       "      <th>Latitude</th>\n",
       "      <th>Longitude</th>\n",
       "      <th>House unit price</th>\n",
       "    </tr>\n",
       "  </thead>\n",
       "  <tbody>\n",
       "    <tr>\n",
       "      <th>0</th>\n",
       "      <td>2012.917</td>\n",
       "      <td>32.0</td>\n",
       "      <td>84.87882</td>\n",
       "      <td>10</td>\n",
       "      <td>24.98298</td>\n",
       "      <td>121.54024</td>\n",
       "      <td>37.9</td>\n",
       "    </tr>\n",
       "    <tr>\n",
       "      <th>1</th>\n",
       "      <td>2012.917</td>\n",
       "      <td>19.5</td>\n",
       "      <td>306.59470</td>\n",
       "      <td>9</td>\n",
       "      <td>24.98034</td>\n",
       "      <td>121.53951</td>\n",
       "      <td>42.2</td>\n",
       "    </tr>\n",
       "    <tr>\n",
       "      <th>2</th>\n",
       "      <td>2013.583</td>\n",
       "      <td>13.3</td>\n",
       "      <td>561.98450</td>\n",
       "      <td>5</td>\n",
       "      <td>24.98746</td>\n",
       "      <td>121.54391</td>\n",
       "      <td>47.3</td>\n",
       "    </tr>\n",
       "    <tr>\n",
       "      <th>3</th>\n",
       "      <td>2013.500</td>\n",
       "      <td>13.3</td>\n",
       "      <td>561.98450</td>\n",
       "      <td>5</td>\n",
       "      <td>24.98746</td>\n",
       "      <td>121.54391</td>\n",
       "      <td>54.8</td>\n",
       "    </tr>\n",
       "    <tr>\n",
       "      <th>4</th>\n",
       "      <td>2012.833</td>\n",
       "      <td>5.0</td>\n",
       "      <td>390.56840</td>\n",
       "      <td>5</td>\n",
       "      <td>24.97937</td>\n",
       "      <td>121.54245</td>\n",
       "      <td>43.1</td>\n",
       "    </tr>\n",
       "  </tbody>\n",
       "</table>\n",
       "</div>"
      ],
      "text/plain": [
       "   Transaction  House age  Distance to MRT station  \\\n",
       "0     2012.917       32.0                 84.87882   \n",
       "1     2012.917       19.5                306.59470   \n",
       "2     2013.583       13.3                561.98450   \n",
       "3     2013.500       13.3                561.98450   \n",
       "4     2012.833        5.0                390.56840   \n",
       "\n",
       "   Number of convenience stores  Latitude  Longitude  House unit price  \n",
       "0                            10  24.98298  121.54024              37.9  \n",
       "1                             9  24.98034  121.53951              42.2  \n",
       "2                             5  24.98746  121.54391              47.3  \n",
       "3                             5  24.98746  121.54391              54.8  \n",
       "4                             5  24.97937  121.54245              43.1  "
      ]
     },
     "execution_count": 4,
     "metadata": {},
     "output_type": "execute_result"
    }
   ],
   "source": [
    "data = pd.read_csv('files/house_prices.csv')\n",
    "data.head()"
   ]
  },
  {
   "cell_type": "markdown",
   "id": "a2183c2b",
   "metadata": {},
   "source": [
    "### Step 3: Prepare data\n",
    "- Create 15 bins of house prices\n",
    "    - HINT: use [cut](https://pandas.pydata.org/docs/reference/api/pandas.cut.html) on the **'House unit price'** column with **bins=15** and assign the result to column **Class**.\n",
    "    - Get the category codes by transforming column **Class** with **.cat.codes** and assign it to **Class id**"
   ]
  },
  {
   "cell_type": "code",
   "execution_count": 7,
   "id": "c1719ced",
   "metadata": {},
   "outputs": [],
   "source": [
    "data['Class'] = pd.cut(data['House unit price'], bins = 15)\n",
    "data['Class ID'] = data['Class'].cat.codes"
   ]
  },
  {
   "cell_type": "code",
   "execution_count": 8,
   "id": "0659b190",
   "metadata": {},
   "outputs": [
    {
     "data": {
      "text/html": [
       "<div>\n",
       "<style scoped>\n",
       "    .dataframe tbody tr th:only-of-type {\n",
       "        vertical-align: middle;\n",
       "    }\n",
       "\n",
       "    .dataframe tbody tr th {\n",
       "        vertical-align: top;\n",
       "    }\n",
       "\n",
       "    .dataframe thead th {\n",
       "        text-align: right;\n",
       "    }\n",
       "</style>\n",
       "<table border=\"1\" class=\"dataframe\">\n",
       "  <thead>\n",
       "    <tr style=\"text-align: right;\">\n",
       "      <th></th>\n",
       "      <th>Transaction</th>\n",
       "      <th>House age</th>\n",
       "      <th>Distance to MRT station</th>\n",
       "      <th>Number of convenience stores</th>\n",
       "      <th>Latitude</th>\n",
       "      <th>Longitude</th>\n",
       "      <th>House unit price</th>\n",
       "      <th>Class</th>\n",
       "      <th>Class ID</th>\n",
       "    </tr>\n",
       "  </thead>\n",
       "  <tbody>\n",
       "    <tr>\n",
       "      <th>0</th>\n",
       "      <td>2012.917</td>\n",
       "      <td>32.0</td>\n",
       "      <td>84.87882</td>\n",
       "      <td>10</td>\n",
       "      <td>24.98298</td>\n",
       "      <td>121.54024</td>\n",
       "      <td>37.9</td>\n",
       "      <td>(36.907, 44.233]</td>\n",
       "      <td>4</td>\n",
       "    </tr>\n",
       "    <tr>\n",
       "      <th>1</th>\n",
       "      <td>2012.917</td>\n",
       "      <td>19.5</td>\n",
       "      <td>306.59470</td>\n",
       "      <td>9</td>\n",
       "      <td>24.98034</td>\n",
       "      <td>121.53951</td>\n",
       "      <td>42.2</td>\n",
       "      <td>(36.907, 44.233]</td>\n",
       "      <td>4</td>\n",
       "    </tr>\n",
       "    <tr>\n",
       "      <th>2</th>\n",
       "      <td>2013.583</td>\n",
       "      <td>13.3</td>\n",
       "      <td>561.98450</td>\n",
       "      <td>5</td>\n",
       "      <td>24.98746</td>\n",
       "      <td>121.54391</td>\n",
       "      <td>47.3</td>\n",
       "      <td>(44.233, 51.56]</td>\n",
       "      <td>5</td>\n",
       "    </tr>\n",
       "    <tr>\n",
       "      <th>3</th>\n",
       "      <td>2013.500</td>\n",
       "      <td>13.3</td>\n",
       "      <td>561.98450</td>\n",
       "      <td>5</td>\n",
       "      <td>24.98746</td>\n",
       "      <td>121.54391</td>\n",
       "      <td>54.8</td>\n",
       "      <td>(51.56, 58.887]</td>\n",
       "      <td>6</td>\n",
       "    </tr>\n",
       "    <tr>\n",
       "      <th>4</th>\n",
       "      <td>2012.833</td>\n",
       "      <td>5.0</td>\n",
       "      <td>390.56840</td>\n",
       "      <td>5</td>\n",
       "      <td>24.97937</td>\n",
       "      <td>121.54245</td>\n",
       "      <td>43.1</td>\n",
       "      <td>(36.907, 44.233]</td>\n",
       "      <td>4</td>\n",
       "    </tr>\n",
       "  </tbody>\n",
       "</table>\n",
       "</div>"
      ],
      "text/plain": [
       "   Transaction  House age  Distance to MRT station  \\\n",
       "0     2012.917       32.0                 84.87882   \n",
       "1     2012.917       19.5                306.59470   \n",
       "2     2013.583       13.3                561.98450   \n",
       "3     2013.500       13.3                561.98450   \n",
       "4     2012.833        5.0                390.56840   \n",
       "\n",
       "   Number of convenience stores  Latitude  Longitude  House unit price  \\\n",
       "0                            10  24.98298  121.54024              37.9   \n",
       "1                             9  24.98034  121.53951              42.2   \n",
       "2                             5  24.98746  121.54391              47.3   \n",
       "3                             5  24.98746  121.54391              54.8   \n",
       "4                             5  24.97937  121.54245              43.1   \n",
       "\n",
       "              Class  Class ID  \n",
       "0  (36.907, 44.233]         4  \n",
       "1  (36.907, 44.233]         4  \n",
       "2   (44.233, 51.56]         5  \n",
       "3   (51.56, 58.887]         6  \n",
       "4  (36.907, 44.233]         4  "
      ]
     },
     "execution_count": 8,
     "metadata": {},
     "output_type": "execute_result"
    }
   ],
   "source": [
    "data.head()"
   ]
  },
  {
   "cell_type": "markdown",
   "id": "9505606d",
   "metadata": {},
   "source": [
    "### Step 4: Prepare training and test data\n",
    "- Assign **X** be all the data (it is needed in final step)\n",
    "- Assign **y** to be the **Class id** column.\n",
    "- Use **train_test_split** with **test_size=0.15**"
   ]
  },
  {
   "cell_type": "code",
   "execution_count": 9,
   "id": "ec6b9b61",
   "metadata": {},
   "outputs": [],
   "source": [
    "X = data\n",
    "y = data['Class ID']"
   ]
  },
  {
   "cell_type": "code",
   "execution_count": 10,
   "id": "0abbc122",
   "metadata": {},
   "outputs": [],
   "source": [
    "X_train, X_test, y_train, y_test = train_test_split(X, y, test_size = 0.15, random_state = 42)"
   ]
  },
  {
   "cell_type": "markdown",
   "id": "9b8f4d52",
   "metadata": {},
   "source": [
    "### Step 5: Train a $k$-Neighbours Classifier\n",
    "- Create a model to **KNeighborsClassifier()**\n",
    "- Fit the model on **X_train[['Latitude', 'Longitude']]** and **y_train**\n",
    "- Predict **X_test[['Latitude', 'Longitude']]** and assign it to **y_pred**\n",
    "- Calculate the accuracy score"
   ]
  },
  {
   "cell_type": "code",
   "execution_count": 17,
   "id": "d5f0269d",
   "metadata": {},
   "outputs": [
    {
     "data": {
      "text/plain": [
       "0.4444444444444444"
      ]
     },
     "execution_count": 17,
     "metadata": {},
     "output_type": "execute_result"
    }
   ],
   "source": [
    "model = KNeighborsClassifier()\n",
    "model.fit(X_train[['Latitude', 'Longitude']], y_train)\n",
    "y_pred = model.predict(X_test[['Latitude', 'Longitude']])\n",
    "accuracy_score(y_test, y_pred)"
   ]
  },
  {
   "cell_type": "markdown",
   "id": "30bb7101",
   "metadata": {},
   "source": [
    "### Step 6: Make prediction of categories\n",
    "- Convert **y_pred** to a DataFrame\n",
    "    - HINT: **df_pred = pd.DataFrame(y_pred, columns=['Pred cat'])**\n",
    "- Get the middle value of the prediction category.\n",
    "    - HINT: **df_pred['Pred'] = df_pred['Pred cat'].apply(lambda x: X_test['Class'].cat.categories[x].mid)**\n",
    "- Calculate the **r2_score** of the predicted and real price **'House unit price'** of **X_test**"
   ]
  },
  {
   "cell_type": "code",
   "execution_count": 18,
   "id": "941d66f9",
   "metadata": {},
   "outputs": [],
   "source": [
    "df_pred = pd.DataFrame(y_pred, columns=['Pred cat'])\n",
    "df_pred['Pred'] = df_pred['Pred cat'].apply(lambda x : X_test['Class'].cat.categories[x].mid)"
   ]
  },
  {
   "cell_type": "code",
   "execution_count": 19,
   "id": "d45e27cf",
   "metadata": {},
   "outputs": [
    {
     "data": {
      "text/plain": [
       "0.7039083923865217"
      ]
     },
     "execution_count": 19,
     "metadata": {},
     "output_type": "execute_result"
    }
   ],
   "source": [
    "r2_score(X_test['House unit price'], df_pred['Pred'])"
   ]
  },
  {
   "cell_type": "markdown",
   "id": "3551ff32",
   "metadata": {},
   "source": [
    "# FULL COMPLETE CODE IN PREDICT HOUSE PRICES"
   ]
  },
  {
   "cell_type": "code",
   "execution_count": 20,
   "id": "cbfd066a",
   "metadata": {},
   "outputs": [],
   "source": [
    "import pandas as pd\n",
    "from sklearn.model_selection import train_test_split\n",
    "from sklearn.neighbors import KNeighborsClassifier\n",
    "from sklearn.metrics import r2_score, accuracy_score"
   ]
  },
  {
   "cell_type": "code",
   "execution_count": 21,
   "id": "a74adfb4",
   "metadata": {},
   "outputs": [
    {
     "data": {
      "text/html": [
       "<div>\n",
       "<style scoped>\n",
       "    .dataframe tbody tr th:only-of-type {\n",
       "        vertical-align: middle;\n",
       "    }\n",
       "\n",
       "    .dataframe tbody tr th {\n",
       "        vertical-align: top;\n",
       "    }\n",
       "\n",
       "    .dataframe thead th {\n",
       "        text-align: right;\n",
       "    }\n",
       "</style>\n",
       "<table border=\"1\" class=\"dataframe\">\n",
       "  <thead>\n",
       "    <tr style=\"text-align: right;\">\n",
       "      <th></th>\n",
       "      <th>Transaction</th>\n",
       "      <th>House age</th>\n",
       "      <th>Distance to MRT station</th>\n",
       "      <th>Number of convenience stores</th>\n",
       "      <th>Latitude</th>\n",
       "      <th>Longitude</th>\n",
       "      <th>House unit price</th>\n",
       "    </tr>\n",
       "  </thead>\n",
       "  <tbody>\n",
       "    <tr>\n",
       "      <th>0</th>\n",
       "      <td>2012.917</td>\n",
       "      <td>32.0</td>\n",
       "      <td>84.87882</td>\n",
       "      <td>10</td>\n",
       "      <td>24.98298</td>\n",
       "      <td>121.54024</td>\n",
       "      <td>37.9</td>\n",
       "    </tr>\n",
       "    <tr>\n",
       "      <th>1</th>\n",
       "      <td>2012.917</td>\n",
       "      <td>19.5</td>\n",
       "      <td>306.59470</td>\n",
       "      <td>9</td>\n",
       "      <td>24.98034</td>\n",
       "      <td>121.53951</td>\n",
       "      <td>42.2</td>\n",
       "    </tr>\n",
       "    <tr>\n",
       "      <th>2</th>\n",
       "      <td>2013.583</td>\n",
       "      <td>13.3</td>\n",
       "      <td>561.98450</td>\n",
       "      <td>5</td>\n",
       "      <td>24.98746</td>\n",
       "      <td>121.54391</td>\n",
       "      <td>47.3</td>\n",
       "    </tr>\n",
       "    <tr>\n",
       "      <th>3</th>\n",
       "      <td>2013.500</td>\n",
       "      <td>13.3</td>\n",
       "      <td>561.98450</td>\n",
       "      <td>5</td>\n",
       "      <td>24.98746</td>\n",
       "      <td>121.54391</td>\n",
       "      <td>54.8</td>\n",
       "    </tr>\n",
       "    <tr>\n",
       "      <th>4</th>\n",
       "      <td>2012.833</td>\n",
       "      <td>5.0</td>\n",
       "      <td>390.56840</td>\n",
       "      <td>5</td>\n",
       "      <td>24.97937</td>\n",
       "      <td>121.54245</td>\n",
       "      <td>43.1</td>\n",
       "    </tr>\n",
       "  </tbody>\n",
       "</table>\n",
       "</div>"
      ],
      "text/plain": [
       "   Transaction  House age  Distance to MRT station  \\\n",
       "0     2012.917       32.0                 84.87882   \n",
       "1     2012.917       19.5                306.59470   \n",
       "2     2013.583       13.3                561.98450   \n",
       "3     2013.500       13.3                561.98450   \n",
       "4     2012.833        5.0                390.56840   \n",
       "\n",
       "   Number of convenience stores  Latitude  Longitude  House unit price  \n",
       "0                            10  24.98298  121.54024              37.9  \n",
       "1                             9  24.98034  121.53951              42.2  \n",
       "2                             5  24.98746  121.54391              47.3  \n",
       "3                             5  24.98746  121.54391              54.8  \n",
       "4                             5  24.97937  121.54245              43.1  "
      ]
     },
     "execution_count": 21,
     "metadata": {},
     "output_type": "execute_result"
    }
   ],
   "source": [
    "data = pd.read_csv('files/house_prices.csv')\n",
    "data.head()"
   ]
  },
  {
   "cell_type": "code",
   "execution_count": 22,
   "id": "c8a84f36",
   "metadata": {},
   "outputs": [
    {
     "data": {
      "text/plain": [
       "Index(['Transaction', 'House age', 'Distance to MRT station',\n",
       "       'Number of convenience stores', 'Latitude', 'Longitude',\n",
       "       'House unit price'],\n",
       "      dtype='object')"
      ]
     },
     "execution_count": 22,
     "metadata": {},
     "output_type": "execute_result"
    }
   ],
   "source": [
    "data.columns"
   ]
  },
  {
   "cell_type": "code",
   "execution_count": 26,
   "id": "d156eb0a",
   "metadata": {},
   "outputs": [],
   "source": [
    "X = data[data.columns[:-1]]\n",
    "y = data[data.columns[-1]]"
   ]
  },
  {
   "cell_type": "code",
   "execution_count": null,
   "id": "feb551d4",
   "metadata": {},
   "outputs": [],
   "source": [
    "X_train, X_test, y_train, y_test = train_test_split(X, y, test_size = 0.40, random_state= 101)"
   ]
  }
 ],
 "metadata": {
  "kernelspec": {
   "display_name": "Python 3",
   "language": "python",
   "name": "python3"
  },
  "language_info": {
   "codemirror_mode": {
    "name": "ipython",
    "version": 3
   },
   "file_extension": ".py",
   "mimetype": "text/x-python",
   "name": "python",
   "nbconvert_exporter": "python",
   "pygments_lexer": "ipython3",
   "version": "3.7.11"
  }
 },
 "nbformat": 4,
 "nbformat_minor": 5
}
