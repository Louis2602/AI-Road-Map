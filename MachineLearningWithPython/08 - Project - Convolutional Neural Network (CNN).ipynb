{
 "cells": [
  {
   "cell_type": "markdown",
   "id": "4e33b771",
   "metadata": {},
   "source": [
    "# Project: Create a Convolutional Neural Network\n",
    "- We will create a model on the [CIFAR-10 dataset](https://www.cs.toronto.edu/%7Ekriz/cifar.html)"
   ]
  },
  {
   "cell_type": "markdown",
   "id": "b7fedd3b",
   "metadata": {},
   "source": [
    "### Step 1: Import libraries"
   ]
  },
  {
   "cell_type": "code",
   "execution_count": null,
   "id": "d3fee79d",
   "metadata": {},
   "outputs": [],
   "source": [
    "import tensorflow as tf\n",
    "from tensorflow.keras import datasets, layers, models\n",
    "from tensorflow.keras.models import Sequential\n",
    "from tensorflow.keras.layers import Conv2D, MaxPooling2D, Flatten, Dense\n",
    "import matplotlib.pyplot as plt\n",
    "%matplotlib inline"
   ]
  },
  {
   "cell_type": "markdown",
   "id": "9c50bbdb",
   "metadata": {},
   "source": [
    "### Step 2: Download the CIFAR10 dataset\n",
    "- Excute the cell below"
   ]
  },
  {
   "cell_type": "code",
   "execution_count": null,
   "id": "12ba9d03",
   "metadata": {},
   "outputs": [],
   "source": [
    "(train_images, train_labels), (test_images, test_labels) = datasets.cifar10.load_data()"
   ]
  },
  {
   "cell_type": "markdown",
   "id": "30cf23b4",
   "metadata": {},
   "source": [
    "### Step 3: Normalize the pixels\n",
    "- Divide the **train_images** and **test_images** with 255 to normalize them between 0 and 1."
   ]
  },
  {
   "cell_type": "code",
   "execution_count": null,
   "id": "7ae75cac",
   "metadata": {},
   "outputs": [],
   "source": []
  },
  {
   "cell_type": "code",
   "execution_count": null,
   "id": "d8910cbe",
   "metadata": {},
   "outputs": [],
   "source": []
  },
  {
   "cell_type": "markdown",
   "id": "1888712c",
   "metadata": {},
   "source": [
    "### Step 4: Get the class names of the labels\n",
    "- Make a class name conversion.\n",
    "    - HINT: make a list with the name **class_names = ['airplane', 'automobile', 'bird', 'cat', 'deer', 'dog', 'frog', 'horse', 'ship', 'truck']**\n",
    "- How to use the name conversion.\n",
    "    - **class_names[int(train_labels[index])]**\n",
    "- How to show an image\n",
    "    - **plt.imshow(train_images[index])**"
   ]
  },
  {
   "cell_type": "code",
   "execution_count": null,
   "id": "1fda0b89",
   "metadata": {},
   "outputs": [],
   "source": []
  },
  {
   "cell_type": "code",
   "execution_count": null,
   "id": "c54fb0e9",
   "metadata": {},
   "outputs": [],
   "source": []
  },
  {
   "cell_type": "markdown",
   "id": "1a1e2ad7",
   "metadata": {},
   "source": [
    "### Step 5: Create a model\n",
    "- Create a **Sequential** model\n",
    "    - **Conv2D** with 32 and (3, 3),  **activation='relu', input_shape=(32, 32, 3)**\n",
    "    - **MaxPooling2D** with (2, 2)\n",
    "    - **Conv2D** with 64 and (3, 3),  **activation='relu'**\n",
    "    - **MaxPooling2D** with (2, 2)\n",
    "    - **Conv2D** with 64 and (3, 3),  **activation='relu'**\n",
    "    - **Flatten**\n",
    "    - **Dense** with 64 nodes with **input_dim=4, activaition='relu'**\n",
    "    - **Dense** with 10 (the output node)**\n",
    "- Complie the model with **optimizer='adam', loss=tf.keras.losses.SparseCategoricalCrossentropy(from_logits=True), metrics=['accuracy']**"
   ]
  },
  {
   "cell_type": "code",
   "execution_count": null,
   "id": "6f9cce23",
   "metadata": {},
   "outputs": [],
   "source": []
  },
  {
   "cell_type": "code",
   "execution_count": null,
   "id": "95f56a82",
   "metadata": {},
   "outputs": [],
   "source": []
  },
  {
   "cell_type": "markdown",
   "id": "c885d22d",
   "metadata": {},
   "source": [
    "### Step 6: Train the model\n",
    "- Fit the model with **train_images, train_labels, epochs=10** and **validation_data=(test_images, test_labels)**"
   ]
  },
  {
   "cell_type": "code",
   "execution_count": null,
   "id": "85e6f867",
   "metadata": {},
   "outputs": [],
   "source": []
  },
  {
   "cell_type": "code",
   "execution_count": null,
   "id": "fcb2b2c1",
   "metadata": {},
   "outputs": [],
   "source": []
  },
  {
   "cell_type": "markdown",
   "id": "0c23d005",
   "metadata": {},
   "source": [
    "### Stpe 7: Test the model\n",
    "- Make predictions\n",
    "    - assign the predictions of test_images to a variable\n",
    "- How to test visually\n",
    "    - Assign **index=0**\n",
    "    - Plot the image with **plt.imshow(test_images[index])**\n",
    "    - See the label from prediction by mapping it from **class_names**"
   ]
  },
  {
   "cell_type": "code",
   "execution_count": null,
   "id": "55a69279",
   "metadata": {},
   "outputs": [],
   "source": []
  },
  {
   "cell_type": "code",
   "execution_count": null,
   "id": "e1fd751f",
   "metadata": {},
   "outputs": [],
   "source": []
  },
  {
   "cell_type": "markdown",
   "id": "52205de0",
   "metadata": {},
   "source": [
    "### Step 8 (Optional): Improve the model\n",
    "- Try to play around with the model to improve the score"
   ]
  },
  {
   "cell_type": "code",
   "execution_count": null,
   "id": "57a6fd02",
   "metadata": {},
   "outputs": [],
   "source": []
  },
  {
   "cell_type": "code",
   "execution_count": null,
   "id": "4b272f6f",
   "metadata": {},
   "outputs": [],
   "source": []
  },
  {
   "cell_type": "code",
   "execution_count": null,
   "id": "d75add01",
   "metadata": {},
   "outputs": [],
   "source": []
  }
 ],
 "metadata": {
  "kernelspec": {
   "display_name": "Python 3",
   "language": "python",
   "name": "python3"
  },
  "language_info": {
   "codemirror_mode": {
    "name": "ipython",
    "version": 3
   },
   "file_extension": ".py",
   "mimetype": "text/x-python",
   "name": "python",
   "nbconvert_exporter": "python",
   "pygments_lexer": "ipython3",
   "version": "3.8.8"
  }
 },
 "nbformat": 4,
 "nbformat_minor": 5
}
